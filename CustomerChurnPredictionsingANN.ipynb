{
  "metadata": {
    "kernelspec": {
      "language": "python",
      "display_name": "Python 3",
      "name": "python3"
    },
    "language_info": {
      "name": "python",
      "version": "3.11.11",
      "mimetype": "text/x-python",
      "codemirror_mode": {
        "name": "ipython",
        "version": 3
      },
      "pygments_lexer": "ipython3",
      "nbconvert_exporter": "python",
      "file_extension": ".py"
    },
    "kaggle": {
      "accelerator": "none",
      "dataSources": [
        {
          "sourceId": 1481789,
          "sourceType": "datasetVersion",
          "datasetId": 869651
        }
      ],
      "dockerImageVersionId": 31040,
      "isInternetEnabled": false,
      "language": "python",
      "sourceType": "notebook",
      "isGpuEnabled": false
    },
    "colab": {
      "name": "CustomerChurnPredictionsingANN",
      "provenance": [],
      "include_colab_link": true
    }
  },
  "nbformat_minor": 0,
  "nbformat": 4,
  "cells": [
    {
      "cell_type": "markdown",
      "metadata": {
        "id": "view-in-github",
        "colab_type": "text"
      },
      "source": [
        "<a href=\"https://colab.research.google.com/github/AnshSharma16/Neural_Networks/blob/main/CustomerChurnPredictionsingANN.ipynb\" target=\"_parent\"><img src=\"https://colab.research.google.com/assets/colab-badge.svg\" alt=\"Open In Colab\"/></a>"
      ]
    },
    {
      "source": [
        "# IMPORTANT: RUN THIS CELL IN ORDER TO IMPORT YOUR KAGGLE DATA SOURCES,\n",
        "# THEN FEEL FREE TO DELETE THIS CELL.\n",
        "# NOTE: THIS NOTEBOOK ENVIRONMENT DIFFERS FROM KAGGLE'S PYTHON\n",
        "# ENVIRONMENT SO THERE MAY BE MISSING LIBRARIES USED BY YOUR\n",
        "# NOTEBOOK.\n",
        "import kagglehub\n",
        "rjmanoj_credit_card_customer_churn_prediction_path = kagglehub.dataset_download('rjmanoj/credit-card-customer-churn-prediction')\n",
        "\n",
        "print('Data source import complete.')\n"
      ],
      "metadata": {
        "id": "yuotrdkxd8WQ"
      },
      "cell_type": "code",
      "outputs": [],
      "execution_count": null
    },
    {
      "cell_type": "code",
      "source": [
        "# This Python 3 environment comes with many helpful analytics libraries installed\n",
        "# It is defined by the kaggle/python Docker image: https://github.com/kaggle/docker-python\n",
        "# For example, here's several helpful packages to load\n",
        "\n",
        "import numpy as np # linear algebra\n",
        "import pandas as pd # data processing, CSV file I/O (e.g. pd.read_csv)\n",
        "\n",
        "# Input data files are available in the read-only \"../input/\" directory\n",
        "# For example, running this (by clicking run or pressing Shift+Enter) will list all files under the input directory\n",
        "\n",
        "import os\n",
        "for dirname, _, filenames in os.walk('/kaggle/input'):\n",
        "    for filename in filenames:\n",
        "        print(os.path.join(dirname, filename))\n",
        "\n",
        "# You can write up to 20GB to the current directory (/kaggle/working/) that gets preserved as output when you create a version using \"Save & Run All\"\n",
        "# You can also write temporary files to /kaggle/temp/, but they won't be saved outside of the current session"
      ],
      "metadata": {
        "_uuid": "8f2839f25d086af736a60e9eeb907d3b93b6e0e5",
        "_cell_guid": "b1076dfc-b9ad-4769-8c92-a6c4dae69d19",
        "trusted": true,
        "execution": {
          "iopub.status.busy": "2025-06-24T14:26:43.07975Z",
          "iopub.execute_input": "2025-06-24T14:26:43.08002Z",
          "iopub.status.idle": "2025-06-24T14:26:45.016957Z",
          "shell.execute_reply.started": "2025-06-24T14:26:43.079997Z",
          "shell.execute_reply": "2025-06-24T14:26:45.016139Z"
        },
        "id": "cu9txV19d8WS"
      },
      "outputs": [],
      "execution_count": null
    },
    {
      "cell_type": "code",
      "source": [
        "df=pd.read_csv('/kaggle/input/credit-card-customer-churn-prediction/Churn_Modelling.csv')"
      ],
      "metadata": {
        "trusted": true,
        "execution": {
          "iopub.status.busy": "2025-06-24T14:26:45.018118Z",
          "iopub.execute_input": "2025-06-24T14:26:45.018473Z",
          "iopub.status.idle": "2025-06-24T14:26:45.070065Z",
          "shell.execute_reply.started": "2025-06-24T14:26:45.018453Z",
          "shell.execute_reply": "2025-06-24T14:26:45.069287Z"
        },
        "id": "APxFn40Sd8WT"
      },
      "outputs": [],
      "execution_count": null
    },
    {
      "cell_type": "code",
      "source": [
        "df.head()"
      ],
      "metadata": {
        "trusted": true,
        "execution": {
          "iopub.status.busy": "2025-06-24T14:26:45.070838Z",
          "iopub.execute_input": "2025-06-24T14:26:45.0711Z",
          "iopub.status.idle": "2025-06-24T14:26:45.096623Z",
          "shell.execute_reply.started": "2025-06-24T14:26:45.071076Z",
          "shell.execute_reply": "2025-06-24T14:26:45.095959Z"
        },
        "id": "CimqH_C7d8WT"
      },
      "outputs": [],
      "execution_count": null
    },
    {
      "cell_type": "code",
      "source": [
        "df.duplicated().sum()"
      ],
      "metadata": {
        "trusted": true,
        "execution": {
          "iopub.status.busy": "2025-06-24T14:26:45.098073Z",
          "iopub.execute_input": "2025-06-24T14:26:45.098323Z",
          "iopub.status.idle": "2025-06-24T14:26:45.118601Z",
          "shell.execute_reply.started": "2025-06-24T14:26:45.098303Z",
          "shell.execute_reply": "2025-06-24T14:26:45.117794Z"
        },
        "id": "mTtGiJ42d8WT"
      },
      "outputs": [],
      "execution_count": null
    },
    {
      "cell_type": "code",
      "source": [
        "df['Exited']"
      ],
      "metadata": {
        "trusted": true,
        "execution": {
          "iopub.status.busy": "2025-06-24T14:26:45.119357Z",
          "iopub.execute_input": "2025-06-24T14:26:45.119661Z",
          "iopub.status.idle": "2025-06-24T14:26:45.126381Z",
          "shell.execute_reply.started": "2025-06-24T14:26:45.119637Z",
          "shell.execute_reply": "2025-06-24T14:26:45.125623Z"
        },
        "id": "odMnJ9TNd8WT"
      },
      "outputs": [],
      "execution_count": null
    },
    {
      "cell_type": "code",
      "source": [
        "df['Gender']"
      ],
      "metadata": {
        "trusted": true,
        "execution": {
          "iopub.status.busy": "2025-06-24T14:26:45.127179Z",
          "iopub.execute_input": "2025-06-24T14:26:45.127467Z",
          "iopub.status.idle": "2025-06-24T14:26:45.143483Z",
          "shell.execute_reply.started": "2025-06-24T14:26:45.127432Z",
          "shell.execute_reply": "2025-06-24T14:26:45.142725Z"
        },
        "id": "iBCb9aigd8WU"
      },
      "outputs": [],
      "execution_count": null
    },
    {
      "cell_type": "code",
      "source": [
        "df['Geography']"
      ],
      "metadata": {
        "trusted": true,
        "execution": {
          "iopub.status.busy": "2025-06-24T14:26:45.144345Z",
          "iopub.execute_input": "2025-06-24T14:26:45.144645Z",
          "iopub.status.idle": "2025-06-24T14:26:45.16313Z",
          "shell.execute_reply.started": "2025-06-24T14:26:45.144619Z",
          "shell.execute_reply": "2025-06-24T14:26:45.162488Z"
        },
        "id": "Z-zG0Ffpd8WU"
      },
      "outputs": [],
      "execution_count": null
    },
    {
      "cell_type": "code",
      "source": [
        "df.drop(columns=['Surname','RowNumber','CustomerId'],inplace=True)"
      ],
      "metadata": {
        "trusted": true,
        "execution": {
          "iopub.status.busy": "2025-06-24T14:26:45.163836Z",
          "iopub.execute_input": "2025-06-24T14:26:45.164044Z",
          "iopub.status.idle": "2025-06-24T14:26:45.186194Z",
          "shell.execute_reply.started": "2025-06-24T14:26:45.164025Z",
          "shell.execute_reply": "2025-06-24T14:26:45.185454Z"
        },
        "id": "2QKpSL1ld8WU"
      },
      "outputs": [],
      "execution_count": null
    },
    {
      "cell_type": "code",
      "source": [
        "print(df.columns)\n"
      ],
      "metadata": {
        "trusted": true,
        "execution": {
          "iopub.status.busy": "2025-06-24T14:26:45.187064Z",
          "iopub.execute_input": "2025-06-24T14:26:45.187332Z",
          "iopub.status.idle": "2025-06-24T14:26:45.195164Z",
          "shell.execute_reply.started": "2025-06-24T14:26:45.187311Z",
          "shell.execute_reply": "2025-06-24T14:26:45.194496Z"
        },
        "id": "qAixhVVcd8WV"
      },
      "outputs": [],
      "execution_count": null
    },
    {
      "cell_type": "code",
      "source": [
        "df=pd.get_dummies(df,columns=['Geography','Gender'],drop_first=True)"
      ],
      "metadata": {
        "trusted": true,
        "execution": {
          "iopub.status.busy": "2025-06-24T14:26:45.1982Z",
          "iopub.execute_input": "2025-06-24T14:26:45.198911Z",
          "iopub.status.idle": "2025-06-24T14:26:45.227724Z",
          "shell.execute_reply.started": "2025-06-24T14:26:45.198885Z",
          "shell.execute_reply": "2025-06-24T14:26:45.22694Z"
        },
        "id": "z-QQQsUzd8WV"
      },
      "outputs": [],
      "execution_count": null
    },
    {
      "cell_type": "code",
      "source": [
        "df.head()"
      ],
      "metadata": {
        "trusted": true,
        "execution": {
          "iopub.status.busy": "2025-06-24T14:26:45.228576Z",
          "iopub.execute_input": "2025-06-24T14:26:45.22886Z",
          "iopub.status.idle": "2025-06-24T14:26:45.254037Z",
          "shell.execute_reply.started": "2025-06-24T14:26:45.228838Z",
          "shell.execute_reply": "2025-06-24T14:26:45.25337Z"
        },
        "id": "_QQvPekwd8WV"
      },
      "outputs": [],
      "execution_count": null
    },
    {
      "cell_type": "code",
      "source": [
        "X=df.drop(columns=['Exited'],axis=1)\n",
        "Y=df['Exited']\n",
        "from sklearn.model_selection import train_test_split\n",
        "X_train, X_test, y_train, y_test = train_test_split(X, Y, test_size=0.2, random_state=42)\n"
      ],
      "metadata": {
        "trusted": true,
        "execution": {
          "iopub.status.busy": "2025-06-24T14:26:45.254673Z",
          "iopub.execute_input": "2025-06-24T14:26:45.2549Z",
          "iopub.status.idle": "2025-06-24T14:26:46.538657Z",
          "shell.execute_reply.started": "2025-06-24T14:26:45.254881Z",
          "shell.execute_reply": "2025-06-24T14:26:46.53784Z"
        },
        "id": "Ex-A_vaFd8WV"
      },
      "outputs": [],
      "execution_count": null
    },
    {
      "cell_type": "code",
      "source": [
        "X.head()"
      ],
      "metadata": {
        "trusted": true,
        "execution": {
          "iopub.status.busy": "2025-06-24T14:26:46.539662Z",
          "iopub.execute_input": "2025-06-24T14:26:46.540124Z",
          "iopub.status.idle": "2025-06-24T14:26:46.552772Z",
          "shell.execute_reply.started": "2025-06-24T14:26:46.540099Z",
          "shell.execute_reply": "2025-06-24T14:26:46.551954Z"
        },
        "id": "rOg7q_Ivd8WV"
      },
      "outputs": [],
      "execution_count": null
    },
    {
      "cell_type": "code",
      "source": [
        "X_train.shape"
      ],
      "metadata": {
        "trusted": true,
        "execution": {
          "iopub.status.busy": "2025-06-24T14:26:46.553931Z",
          "iopub.execute_input": "2025-06-24T14:26:46.554211Z",
          "iopub.status.idle": "2025-06-24T14:26:46.569228Z",
          "shell.execute_reply.started": "2025-06-24T14:26:46.554191Z",
          "shell.execute_reply": "2025-06-24T14:26:46.568496Z"
        },
        "id": "WfJC7aoNd8WV"
      },
      "outputs": [],
      "execution_count": null
    },
    {
      "cell_type": "code",
      "source": [
        "from sklearn.preprocessing import StandardScaler\n",
        "scaler=StandardScaler()\n",
        "X_train_scaled=scaler.fit_transform(X_train)\n",
        "X_test_scaled=scaler.transform(X_test)"
      ],
      "metadata": {
        "trusted": true,
        "execution": {
          "iopub.status.busy": "2025-06-24T14:26:46.570169Z",
          "iopub.execute_input": "2025-06-24T14:26:46.570479Z",
          "iopub.status.idle": "2025-06-24T14:26:46.62342Z",
          "shell.execute_reply.started": "2025-06-24T14:26:46.570454Z",
          "shell.execute_reply": "2025-06-24T14:26:46.622587Z"
        },
        "id": "xoFB7BCKd8WV"
      },
      "outputs": [],
      "execution_count": null
    },
    {
      "cell_type": "code",
      "source": [
        "X_train_scaled"
      ],
      "metadata": {
        "trusted": true,
        "execution": {
          "iopub.status.busy": "2025-06-24T14:26:46.624264Z",
          "iopub.execute_input": "2025-06-24T14:26:46.624548Z",
          "iopub.status.idle": "2025-06-24T14:26:46.630141Z",
          "shell.execute_reply.started": "2025-06-24T14:26:46.624524Z",
          "shell.execute_reply": "2025-06-24T14:26:46.629442Z"
        },
        "id": "ycm8ugeGd8WV"
      },
      "outputs": [],
      "execution_count": null
    },
    {
      "cell_type": "code",
      "source": [
        "import tensorflow\n",
        "from tensorflow import keras\n",
        "from tensorflow.keras import Sequential\n",
        "from tensorflow.keras.layers import Dense"
      ],
      "metadata": {
        "trusted": true,
        "execution": {
          "iopub.status.busy": "2025-06-24T14:26:46.631204Z",
          "iopub.execute_input": "2025-06-24T14:26:46.63152Z",
          "iopub.status.idle": "2025-06-24T14:27:02.466282Z",
          "shell.execute_reply.started": "2025-06-24T14:26:46.631495Z",
          "shell.execute_reply": "2025-06-24T14:27:02.465562Z"
        },
        "id": "NkL0yUWdd8WV"
      },
      "outputs": [],
      "execution_count": null
    },
    {
      "cell_type": "code",
      "source": [
        "model=Sequential()\n",
        "model.add(Dense(3,activation='relu',input_dim=11))\n",
        "model.add(Dense(1,activation='relu'))\n",
        "model.add(Dense(1,activation='sigmoid'))"
      ],
      "metadata": {
        "trusted": true,
        "execution": {
          "iopub.status.busy": "2025-06-24T14:44:09.863764Z",
          "iopub.execute_input": "2025-06-24T14:44:09.864378Z",
          "iopub.status.idle": "2025-06-24T14:44:09.895663Z",
          "shell.execute_reply.started": "2025-06-24T14:44:09.864355Z",
          "shell.execute_reply": "2025-06-24T14:44:09.895066Z"
        },
        "id": "jTlUPaWFd8WW"
      },
      "outputs": [],
      "execution_count": null
    },
    {
      "cell_type": "code",
      "source": [
        "model.summary()"
      ],
      "metadata": {
        "trusted": true,
        "execution": {
          "iopub.status.busy": "2025-06-24T14:44:14.333852Z",
          "iopub.execute_input": "2025-06-24T14:44:14.334487Z",
          "iopub.status.idle": "2025-06-24T14:44:14.348751Z",
          "shell.execute_reply.started": "2025-06-24T14:44:14.334462Z",
          "shell.execute_reply": "2025-06-24T14:44:14.347944Z"
        },
        "id": "I0v9UABFd8WW"
      },
      "outputs": [],
      "execution_count": null
    },
    {
      "cell_type": "code",
      "source": [
        "model.compile(loss='binary_crossentropy',optimizer='Adam')"
      ],
      "metadata": {
        "trusted": true,
        "execution": {
          "iopub.status.busy": "2025-06-24T14:51:34.7839Z",
          "iopub.execute_input": "2025-06-24T14:51:34.784194Z",
          "iopub.status.idle": "2025-06-24T14:51:34.793844Z",
          "shell.execute_reply.started": "2025-06-24T14:51:34.784173Z",
          "shell.execute_reply": "2025-06-24T14:51:34.793016Z"
        },
        "id": "JUVAX8c9d8WW"
      },
      "outputs": [],
      "execution_count": null
    },
    {
      "cell_type": "code",
      "source": [
        "history=model.fit(X_train_scaled,y_train,epochs=100)"
      ],
      "metadata": {
        "trusted": true,
        "execution": {
          "iopub.status.busy": "2025-06-24T14:51:43.223795Z",
          "iopub.execute_input": "2025-06-24T14:51:43.224553Z",
          "iopub.status.idle": "2025-06-24T14:52:20.593192Z",
          "shell.execute_reply.started": "2025-06-24T14:51:43.224526Z",
          "shell.execute_reply": "2025-06-24T14:52:20.592452Z"
        },
        "id": "OKaevHb6d8WW"
      },
      "outputs": [],
      "execution_count": null
    },
    {
      "cell_type": "code",
      "source": [
        "model.layers[0].get_weights()"
      ],
      "metadata": {
        "trusted": true,
        "execution": {
          "iopub.status.busy": "2025-06-24T14:52:24.924188Z",
          "iopub.execute_input": "2025-06-24T14:52:24.924519Z",
          "iopub.status.idle": "2025-06-24T14:52:24.931486Z",
          "shell.execute_reply.started": "2025-06-24T14:52:24.924497Z",
          "shell.execute_reply": "2025-06-24T14:52:24.930811Z"
        },
        "id": "QL_A_lExd8WW"
      },
      "outputs": [],
      "execution_count": null
    },
    {
      "cell_type": "code",
      "source": [
        "model.layers[1].get_weights()"
      ],
      "metadata": {
        "trusted": true,
        "execution": {
          "iopub.status.busy": "2025-06-24T14:50:41.969935Z",
          "iopub.execute_input": "2025-06-24T14:50:41.970553Z",
          "iopub.status.idle": "2025-06-24T14:50:41.979027Z",
          "shell.execute_reply.started": "2025-06-24T14:50:41.970517Z",
          "shell.execute_reply": "2025-06-24T14:50:41.978145Z"
        },
        "id": "0Ewv_xhod8WW"
      },
      "outputs": [],
      "execution_count": null
    },
    {
      "cell_type": "code",
      "source": [
        "y_log=model.predict(X_test_scaled)"
      ],
      "metadata": {
        "trusted": true,
        "execution": {
          "iopub.status.busy": "2025-06-24T14:50:44.743953Z",
          "iopub.execute_input": "2025-06-24T14:50:44.744271Z",
          "iopub.status.idle": "2025-06-24T14:50:44.992259Z",
          "shell.execute_reply.started": "2025-06-24T14:50:44.744223Z",
          "shell.execute_reply": "2025-06-24T14:50:44.991592Z"
        },
        "id": "EEhn56Rzd8WW"
      },
      "outputs": [],
      "execution_count": null
    },
    {
      "cell_type": "code",
      "source": [
        "y_pred=np.where(y_log>0.5,1,0)"
      ],
      "metadata": {
        "trusted": true,
        "execution": {
          "iopub.status.busy": "2025-06-24T14:50:47.983889Z",
          "iopub.execute_input": "2025-06-24T14:50:47.984529Z",
          "iopub.status.idle": "2025-06-24T14:50:47.988456Z",
          "shell.execute_reply.started": "2025-06-24T14:50:47.984502Z",
          "shell.execute_reply": "2025-06-24T14:50:47.98747Z"
        },
        "id": "nWMzidNgd8WW"
      },
      "outputs": [],
      "execution_count": null
    },
    {
      "cell_type": "code",
      "source": [
        "from sklearn.metrics import accuracy_score\n",
        "accuracy_score(y_test,y_pred)"
      ],
      "metadata": {
        "trusted": true,
        "execution": {
          "iopub.status.busy": "2025-06-24T14:50:51.403819Z",
          "iopub.execute_input": "2025-06-24T14:50:51.404114Z",
          "iopub.status.idle": "2025-06-24T14:50:51.411425Z",
          "shell.execute_reply.started": "2025-06-24T14:50:51.404092Z",
          "shell.execute_reply": "2025-06-24T14:50:51.41058Z"
        },
        "id": "9sXuJy6Yd8WW"
      },
      "outputs": [],
      "execution_count": null
    },
    {
      "cell_type": "code",
      "source": [
        "import matplotlib.pyplot as plt\n",
        "history.history"
      ],
      "metadata": {
        "trusted": true,
        "execution": {
          "iopub.status.busy": "2025-06-24T14:52:28.638789Z",
          "iopub.execute_input": "2025-06-24T14:52:28.639391Z",
          "iopub.status.idle": "2025-06-24T14:52:28.645713Z",
          "shell.execute_reply.started": "2025-06-24T14:52:28.639368Z",
          "shell.execute_reply": "2025-06-24T14:52:28.645026Z"
        },
        "id": "ZMgxPotCd8WW"
      },
      "outputs": [],
      "execution_count": null
    },
    {
      "cell_type": "code",
      "source": [
        "plt.plot(history.history['loss'])"
      ],
      "metadata": {
        "trusted": true,
        "execution": {
          "iopub.status.busy": "2025-06-24T14:55:29.364027Z",
          "iopub.execute_input": "2025-06-24T14:55:29.364673Z",
          "iopub.status.idle": "2025-06-24T14:55:29.523415Z",
          "shell.execute_reply.started": "2025-06-24T14:55:29.364651Z",
          "shell.execute_reply": "2025-06-24T14:55:29.522607Z"
        },
        "id": "jlPVUAe5d8WW"
      },
      "outputs": [],
      "execution_count": null
    }
  ]
}