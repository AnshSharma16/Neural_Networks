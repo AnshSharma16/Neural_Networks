{
  "nbformat": 4,
  "nbformat_minor": 0,
  "metadata": {
    "colab": {
      "provenance": [],
      "authorship_tag": "ABX9TyPT+scOC08koxeYOEr6PXzi",
      "include_colab_link": true
    },
    "kernelspec": {
      "name": "python3",
      "display_name": "Python 3"
    },
    "language_info": {
      "name": "python"
    }
  },
  "cells": [
    {
      "cell_type": "markdown",
      "metadata": {
        "id": "view-in-github",
        "colab_type": "text"
      },
      "source": [
        "<a href=\"https://colab.research.google.com/github/AnshSharma16/Neural_Networks/blob/main/Neura_lNetworks_XOR.ipynb\" target=\"_parent\"><img src=\"https://colab.research.google.com/assets/colab-badge.svg\" alt=\"Open In Colab\"/></a>"
      ]
    },
    {
      "cell_type": "markdown",
      "source": [
        "Importing libraries"
      ],
      "metadata": {
        "id": "Hfl9_9JZOZnJ"
      }
    },
    {
      "cell_type": "code",
      "execution_count": 2,
      "metadata": {
        "id": "m-QQRyoNJCn1"
      },
      "outputs": [],
      "source": [
        "import numpy as np\n",
        "import tensorflow as tf"
      ]
    },
    {
      "cell_type": "markdown",
      "source": [
        "Defining dataset"
      ],
      "metadata": {
        "id": "-7nGWp2YOd4S"
      }
    },
    {
      "cell_type": "code",
      "source": [
        "inputs=np.array([[0,0],[0,1],[1,0],[1,1]],dtype=np.float32)\n",
        "outputs=np.array([[0],[1],[1],[0]],dtype=np.float32)"
      ],
      "metadata": {
        "id": "G4UtWdpYJUjB"
      },
      "execution_count": 3,
      "outputs": []
    },
    {
      "cell_type": "markdown",
      "source": [
        "Creating the neural network"
      ],
      "metadata": {
        "id": "EWsBaSDqOjIl"
      }
    },
    {
      "cell_type": "code",
      "source": [
        "model=tf.keras.Sequential()\n",
        "model.add(tf.keras.layers.Dense(2,input_dim=2,activation='sigmoid')) # Hidden layer with 2 neurons\n",
        "model.add(tf.keras.layers.Dense(1,activation='sigmoid'))          # Output layer with 1 neuron"
      ],
      "metadata": {
        "id": "ez4cgSC3JUwy"
      },
      "execution_count": 14,
      "outputs": []
    },
    {
      "cell_type": "markdown",
      "source": [
        "Compilation"
      ],
      "metadata": {
        "id": "Hej7Atz4RGy4"
      }
    },
    {
      "cell_type": "code",
      "source": [
        "model.compile(loss='binary_crossentropy',optimizer='adam',metrics=['accuracy'])"
      ],
      "metadata": {
        "id": "V3EMxld_Mvvp"
      },
      "execution_count": 15,
      "outputs": []
    },
    {
      "cell_type": "markdown",
      "source": [
        "Model fitting"
      ],
      "metadata": {
        "id": "qUUfMGDMRJxg"
      }
    },
    {
      "cell_type": "code",
      "source": [
        "history=model.fit(inputs,outputs,epochs=10000,verbose=0)"
      ],
      "metadata": {
        "id": "285T-9IWMvr8"
      },
      "execution_count": 16,
      "outputs": []
    },
    {
      "cell_type": "markdown",
      "source": [
        "Evaluation"
      ],
      "metadata": {
        "id": "3ruyNCrxRMIl"
      }
    },
    {
      "cell_type": "code",
      "source": [
        "loss,accuracy=model.evaluate(inputs,outputs,verbose=0)\n",
        "print(f\"Loss: {loss}, Accuracy: {accuracy}\")"
      ],
      "metadata": {
        "colab": {
          "base_uri": "https://localhost:8080/"
        },
        "id": "LY_BTTRwMvoi",
        "outputId": "249c7d4c-d6bc-4807-b483-352877bce22c"
      },
      "execution_count": 19,
      "outputs": [
        {
          "output_type": "stream",
          "name": "stdout",
          "text": [
            "Loss: 0.6813242435455322, Accuracy: 0.75\n"
          ]
        }
      ]
    },
    {
      "cell_type": "markdown",
      "source": [
        "Prediction"
      ],
      "metadata": {
        "id": "Htkp4S9vRP_c"
      }
    },
    {
      "cell_type": "code",
      "source": [
        "predictions=model.predict(inputs)\n",
        "print(f\"Predictions: {np.round(predictions)}\")"
      ],
      "metadata": {
        "colab": {
          "base_uri": "https://localhost:8080/"
        },
        "id": "QWGzTSMjNwyW",
        "outputId": "5bac45f6-1aba-4555-8242-24587f1d44e0"
      },
      "execution_count": 20,
      "outputs": [
        {
          "output_type": "stream",
          "name": "stdout",
          "text": [
            "\u001b[1m1/1\u001b[0m \u001b[32m━━━━━━━━━━━━━━━━━━━━\u001b[0m\u001b[37m\u001b[0m \u001b[1m0s\u001b[0m 19ms/step\n",
            "Predictions: [[0.]\n",
            " [1.]\n",
            " [1.]\n",
            " [1.]]\n"
          ]
        }
      ]
    }
  ]
}